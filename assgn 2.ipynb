{
 "cells": [
  {
   "cell_type": "code",
   "execution_count": null,
   "id": "3596be6b-9e60-43fd-b2ae-5e636ef031cd",
   "metadata": {},
   "outputs": [],
   "source": [
    "1.\n",
    "def arrayPairSum(nums):\n",
    "    nums.sort()\n",
    "    max_sum = 0\n",
    "    \n",
    "    for i in range(0, len(nums), 2):\n",
    "        max_sum += nums[i]\n",
    "    \n",
    "    return max_sum\n"
   ]
  },
  {
   "cell_type": "code",
   "execution_count": null,
   "id": "3657ff8d-126f-445d-8924-89d4bd81b872",
   "metadata": {},
   "outputs": [],
   "source": [
    "2.\n",
    "def maxCandies(candyType):\n",
    "    unique_candy_types = set(candyType)\n",
    "    max_candy_types = min(len(unique_candy_types), len(candyType) // 2)\n",
    "    return max_candy_types\n"
   ]
  },
  {
   "cell_type": "code",
   "execution_count": null,
   "id": "ef982f01-5f25-49b3-bd81-916beaabfa3b",
   "metadata": {},
   "outputs": [],
   "source": [
    "3.\n",
    "from collections import Counter\n",
    "\n",
    "def findLHS(nums):\n",
    "    num_freq = Counter(nums)\n",
    "    max_length = 0\n",
    "    \n",
    "    for num in num_freq:\n",
    "        if num + 1 in num_freq:\n",
    "            length = num_freq[num] + num_freq[num + 1]\n",
    "            if length > max_length:\n",
    "                max_length = length\n",
    "    \n",
    "    return max_length\n"
   ]
  },
  {
   "cell_type": "code",
   "execution_count": null,
   "id": "f196e3ea-42f3-4511-96e1-aebdc2311068",
   "metadata": {},
   "outputs": [],
   "source": [
    "4.\n",
    "def canPlaceFlowers(flowerbed, n):\n",
    "    count = 0\n",
    "    length = len(flowerbed)\n",
    "    i = 0\n",
    "\n",
    "    while i < length:\n",
    "        if flowerbed[i] == 0 and (i == 0 or flowerbed[i-1] == 0) and (i == length-1 or flowerbed[i+1] == 0):\n",
    "            flowerbed[i] = 1\n",
    "            count += 1\n",
    "        i += 1\n",
    "\n",
    "    return count >= n\n"
   ]
  },
  {
   "cell_type": "code",
   "execution_count": null,
   "id": "4c76e3e2-4787-4130-9e27-957d2e7b1f44",
   "metadata": {},
   "outputs": [],
   "source": [
    "5.\n",
    "def maximumProduct(nums):\n",
    "    nums.sort()\n",
    "    n = len(nums)\n",
    "    return max(nums[0] * nums[1] * nums[n-1], nums[n-3] * nums[n-2] * nums[n-1])\n"
   ]
  },
  {
   "cell_type": "code",
   "execution_count": null,
   "id": "4d1cc3b4-1b0b-4f01-86b2-a865a4b34d0f",
   "metadata": {},
   "outputs": [],
   "source": [
    "6.\n"
   ]
  }
 ],
 "metadata": {
  "kernelspec": {
   "display_name": "Python 3 (ipykernel)",
   "language": "python",
   "name": "python3"
  },
  "language_info": {
   "codemirror_mode": {
    "name": "ipython",
    "version": 3
   },
   "file_extension": ".py",
   "mimetype": "text/x-python",
   "name": "python",
   "nbconvert_exporter": "python",
   "pygments_lexer": "ipython3",
   "version": "3.10.8"
  }
 },
 "nbformat": 4,
 "nbformat_minor": 5
}
